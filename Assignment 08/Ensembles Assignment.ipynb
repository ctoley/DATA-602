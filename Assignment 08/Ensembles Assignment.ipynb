{
 "cells": [
  {
   "cell_type": "markdown",
   "id": "77a07205",
   "metadata": {},
   "source": [
    "## Assignment 8 Flight Data"
   ]
  },
  {
   "cell_type": "markdown",
   "id": "dd0c4181",
   "metadata": {},
   "source": [
    "Analyze the data and create a processing pipeline. We are interested if we can predict whether a flight gets delayed or not (arr_delay).\n",
    "Fit a logistic regression, decision tree, and SVM using grid search. Discuss the performance of each model.\n",
    "Fit an ensemble using the three above models. Does this improvement performance?\n",
    "Fit a model using AdaBoost. Does this improve performance?"
   ]
  },
  {
   "cell_type": "code",
   "execution_count": 5,
   "id": "32f176e5",
   "metadata": {},
   "outputs": [],
   "source": [
    "import numpy as np\n",
    "import pandas as pd\n",
    "import matplotlib.pyplot as plt\n",
    "import seaborn as sns"
   ]
  },
  {
   "cell_type": "code",
   "execution_count": 6,
   "id": "cbf2e2c6",
   "metadata": {},
   "outputs": [],
   "source": [
    "flt = pd.read_csv('flight-data.csv')"
   ]
  },
  {
   "cell_type": "code",
   "execution_count": 7,
   "id": "9b90636c",
   "metadata": {},
   "outputs": [],
   "source": [
    "pd.options.display.max_rows = 999"
   ]
  },
  {
   "cell_type": "code",
   "execution_count": 8,
   "id": "ed824cfb",
   "metadata": {},
   "outputs": [
    {
     "data": {
      "text/html": [
       "<div>\n",
       "<style scoped>\n",
       "    .dataframe tbody tr th:only-of-type {\n",
       "        vertical-align: middle;\n",
       "    }\n",
       "\n",
       "    .dataframe tbody tr th {\n",
       "        vertical-align: top;\n",
       "    }\n",
       "\n",
       "    .dataframe thead th {\n",
       "        text-align: right;\n",
       "    }\n",
       "</style>\n",
       "<table border=\"1\" class=\"dataframe\">\n",
       "  <thead>\n",
       "    <tr style=\"text-align: right;\">\n",
       "      <th></th>\n",
       "      <th>carrier</th>\n",
       "      <th>flight</th>\n",
       "      <th>tailnum</th>\n",
       "      <th>origin</th>\n",
       "      <th>dest</th>\n",
       "      <th>air_time</th>\n",
       "      <th>distance</th>\n",
       "      <th>hour</th>\n",
       "      <th>minute</th>\n",
       "      <th>temp</th>\n",
       "      <th>...</th>\n",
       "      <th>precip</th>\n",
       "      <th>pressure</th>\n",
       "      <th>visib</th>\n",
       "      <th>type</th>\n",
       "      <th>manufacturer</th>\n",
       "      <th>model</th>\n",
       "      <th>engines</th>\n",
       "      <th>seats</th>\n",
       "      <th>engine</th>\n",
       "      <th>arr_delay</th>\n",
       "    </tr>\n",
       "  </thead>\n",
       "  <tbody>\n",
       "    <tr>\n",
       "      <th>0</th>\n",
       "      <td>B6</td>\n",
       "      <td>1201</td>\n",
       "      <td>N643JB</td>\n",
       "      <td>JFK</td>\n",
       "      <td>FLL</td>\n",
       "      <td>135.0</td>\n",
       "      <td>1069</td>\n",
       "      <td>21</td>\n",
       "      <td>50</td>\n",
       "      <td>73.04</td>\n",
       "      <td>...</td>\n",
       "      <td>0.0</td>\n",
       "      <td>1019.4</td>\n",
       "      <td>10.0</td>\n",
       "      <td>Fixed wing multi engine</td>\n",
       "      <td>AIRBUS</td>\n",
       "      <td>A320-232</td>\n",
       "      <td>2.0</td>\n",
       "      <td>200.0</td>\n",
       "      <td>Turbo-fan</td>\n",
       "      <td>1.0</td>\n",
       "    </tr>\n",
       "    <tr>\n",
       "      <th>1</th>\n",
       "      <td>DL</td>\n",
       "      <td>1773</td>\n",
       "      <td>N3743H</td>\n",
       "      <td>JFK</td>\n",
       "      <td>LAS</td>\n",
       "      <td>287.0</td>\n",
       "      <td>2248</td>\n",
       "      <td>15</td>\n",
       "      <td>35</td>\n",
       "      <td>71.06</td>\n",
       "      <td>...</td>\n",
       "      <td>0.0</td>\n",
       "      <td>1020.4</td>\n",
       "      <td>10.0</td>\n",
       "      <td>Fixed wing multi engine</td>\n",
       "      <td>BOEING</td>\n",
       "      <td>737-832</td>\n",
       "      <td>2.0</td>\n",
       "      <td>189.0</td>\n",
       "      <td>Turbo-jet</td>\n",
       "      <td>0.0</td>\n",
       "    </tr>\n",
       "    <tr>\n",
       "      <th>2</th>\n",
       "      <td>EV</td>\n",
       "      <td>4572</td>\n",
       "      <td>N11107</td>\n",
       "      <td>EWR</td>\n",
       "      <td>GSP</td>\n",
       "      <td>84.0</td>\n",
       "      <td>594</td>\n",
       "      <td>15</td>\n",
       "      <td>9</td>\n",
       "      <td>78.80</td>\n",
       "      <td>...</td>\n",
       "      <td>0.0</td>\n",
       "      <td>NaN</td>\n",
       "      <td>5.0</td>\n",
       "      <td>Fixed wing multi engine</td>\n",
       "      <td>EMBRAER</td>\n",
       "      <td>EMB-145XR</td>\n",
       "      <td>2.0</td>\n",
       "      <td>55.0</td>\n",
       "      <td>Turbo-fan</td>\n",
       "      <td>1.0</td>\n",
       "    </tr>\n",
       "    <tr>\n",
       "      <th>3</th>\n",
       "      <td>B6</td>\n",
       "      <td>179</td>\n",
       "      <td>N526JB</td>\n",
       "      <td>JFK</td>\n",
       "      <td>PHX</td>\n",
       "      <td>305.0</td>\n",
       "      <td>2153</td>\n",
       "      <td>17</td>\n",
       "      <td>35</td>\n",
       "      <td>44.06</td>\n",
       "      <td>...</td>\n",
       "      <td>0.0</td>\n",
       "      <td>1009.2</td>\n",
       "      <td>10.0</td>\n",
       "      <td>NaN</td>\n",
       "      <td>NaN</td>\n",
       "      <td>NaN</td>\n",
       "      <td>NaN</td>\n",
       "      <td>NaN</td>\n",
       "      <td>NaN</td>\n",
       "      <td>1.0</td>\n",
       "    </tr>\n",
       "    <tr>\n",
       "      <th>4</th>\n",
       "      <td>US</td>\n",
       "      <td>1733</td>\n",
       "      <td>N162UW</td>\n",
       "      <td>LGA</td>\n",
       "      <td>CLT</td>\n",
       "      <td>78.0</td>\n",
       "      <td>544</td>\n",
       "      <td>7</td>\n",
       "      <td>53</td>\n",
       "      <td>69.98</td>\n",
       "      <td>...</td>\n",
       "      <td>0.0</td>\n",
       "      <td>1021.3</td>\n",
       "      <td>10.0</td>\n",
       "      <td>Fixed wing multi engine</td>\n",
       "      <td>AIRBUS INDUSTRIE</td>\n",
       "      <td>A321-211</td>\n",
       "      <td>2.0</td>\n",
       "      <td>199.0</td>\n",
       "      <td>Turbo-jet</td>\n",
       "      <td>0.0</td>\n",
       "    </tr>\n",
       "    <tr>\n",
       "      <th>5</th>\n",
       "      <td>UA</td>\n",
       "      <td>1519</td>\n",
       "      <td>N16701</td>\n",
       "      <td>EWR</td>\n",
       "      <td>STT</td>\n",
       "      <td>199.0</td>\n",
       "      <td>1634</td>\n",
       "      <td>9</td>\n",
       "      <td>22</td>\n",
       "      <td>57.92</td>\n",
       "      <td>...</td>\n",
       "      <td>0.0</td>\n",
       "      <td>1030.1</td>\n",
       "      <td>10.0</td>\n",
       "      <td>Fixed wing multi engine</td>\n",
       "      <td>BOEING</td>\n",
       "      <td>737-724</td>\n",
       "      <td>2.0</td>\n",
       "      <td>149.0</td>\n",
       "      <td>Turbo-jet</td>\n",
       "      <td>0.0</td>\n",
       "    </tr>\n",
       "    <tr>\n",
       "      <th>6</th>\n",
       "      <td>UA</td>\n",
       "      <td>436</td>\n",
       "      <td>N471UA</td>\n",
       "      <td>EWR</td>\n",
       "      <td>FLL</td>\n",
       "      <td>138.0</td>\n",
       "      <td>1065</td>\n",
       "      <td>20</td>\n",
       "      <td>0</td>\n",
       "      <td>78.98</td>\n",
       "      <td>...</td>\n",
       "      <td>0.0</td>\n",
       "      <td>1016.2</td>\n",
       "      <td>10.0</td>\n",
       "      <td>Fixed wing multi engine</td>\n",
       "      <td>AIRBUS INDUSTRIE</td>\n",
       "      <td>A320-232</td>\n",
       "      <td>2.0</td>\n",
       "      <td>200.0</td>\n",
       "      <td>Turbo-fan</td>\n",
       "      <td>1.0</td>\n",
       "    </tr>\n",
       "    <tr>\n",
       "      <th>7</th>\n",
       "      <td>UA</td>\n",
       "      <td>322</td>\n",
       "      <td>N844UA</td>\n",
       "      <td>LGA</td>\n",
       "      <td>CLE</td>\n",
       "      <td>67.0</td>\n",
       "      <td>419</td>\n",
       "      <td>15</td>\n",
       "      <td>35</td>\n",
       "      <td>82.94</td>\n",
       "      <td>...</td>\n",
       "      <td>0.0</td>\n",
       "      <td>1012.8</td>\n",
       "      <td>10.0</td>\n",
       "      <td>Fixed wing multi engine</td>\n",
       "      <td>AIRBUS INDUSTRIE</td>\n",
       "      <td>A319-131</td>\n",
       "      <td>2.0</td>\n",
       "      <td>179.0</td>\n",
       "      <td>Turbo-jet</td>\n",
       "      <td>0.0</td>\n",
       "    </tr>\n",
       "    <tr>\n",
       "      <th>8</th>\n",
       "      <td>WN</td>\n",
       "      <td>124</td>\n",
       "      <td>N7741C</td>\n",
       "      <td>LGA</td>\n",
       "      <td>MDW</td>\n",
       "      <td>105.0</td>\n",
       "      <td>725</td>\n",
       "      <td>9</td>\n",
       "      <td>30</td>\n",
       "      <td>60.08</td>\n",
       "      <td>...</td>\n",
       "      <td>0.0</td>\n",
       "      <td>1024.0</td>\n",
       "      <td>10.0</td>\n",
       "      <td>Fixed wing multi engine</td>\n",
       "      <td>BOEING</td>\n",
       "      <td>737-7BD</td>\n",
       "      <td>2.0</td>\n",
       "      <td>149.0</td>\n",
       "      <td>Turbo-fan</td>\n",
       "      <td>0.0</td>\n",
       "    </tr>\n",
       "    <tr>\n",
       "      <th>9</th>\n",
       "      <td>B6</td>\n",
       "      <td>1443</td>\n",
       "      <td>N348JB</td>\n",
       "      <td>EWR</td>\n",
       "      <td>PBI</td>\n",
       "      <td>152.0</td>\n",
       "      <td>1023</td>\n",
       "      <td>17</td>\n",
       "      <td>24</td>\n",
       "      <td>33.98</td>\n",
       "      <td>...</td>\n",
       "      <td>0.0</td>\n",
       "      <td>1023.8</td>\n",
       "      <td>10.0</td>\n",
       "      <td>Fixed wing multi engine</td>\n",
       "      <td>EMBRAER</td>\n",
       "      <td>ERJ 190-100 IGW</td>\n",
       "      <td>2.0</td>\n",
       "      <td>20.0</td>\n",
       "      <td>Turbo-fan</td>\n",
       "      <td>1.0</td>\n",
       "    </tr>\n",
       "  </tbody>\n",
       "</table>\n",
       "<p>10 rows × 25 columns</p>\n",
       "</div>"
      ],
      "text/plain": [
       "  carrier  flight tailnum origin dest  air_time  distance  hour  minute  \\\n",
       "0      B6    1201  N643JB    JFK  FLL     135.0      1069    21      50   \n",
       "1      DL    1773  N3743H    JFK  LAS     287.0      2248    15      35   \n",
       "2      EV    4572  N11107    EWR  GSP      84.0       594    15       9   \n",
       "3      B6     179  N526JB    JFK  PHX     305.0      2153    17      35   \n",
       "4      US    1733  N162UW    LGA  CLT      78.0       544     7      53   \n",
       "5      UA    1519  N16701    EWR  STT     199.0      1634     9      22   \n",
       "6      UA     436  N471UA    EWR  FLL     138.0      1065    20       0   \n",
       "7      UA     322  N844UA    LGA  CLE      67.0       419    15      35   \n",
       "8      WN     124  N7741C    LGA  MDW     105.0       725     9      30   \n",
       "9      B6    1443  N348JB    EWR  PBI     152.0      1023    17      24   \n",
       "\n",
       "    temp  ...  precip  pressure  visib                     type  \\\n",
       "0  73.04  ...     0.0    1019.4   10.0  Fixed wing multi engine   \n",
       "1  71.06  ...     0.0    1020.4   10.0  Fixed wing multi engine   \n",
       "2  78.80  ...     0.0       NaN    5.0  Fixed wing multi engine   \n",
       "3  44.06  ...     0.0    1009.2   10.0                      NaN   \n",
       "4  69.98  ...     0.0    1021.3   10.0  Fixed wing multi engine   \n",
       "5  57.92  ...     0.0    1030.1   10.0  Fixed wing multi engine   \n",
       "6  78.98  ...     0.0    1016.2   10.0  Fixed wing multi engine   \n",
       "7  82.94  ...     0.0    1012.8   10.0  Fixed wing multi engine   \n",
       "8  60.08  ...     0.0    1024.0   10.0  Fixed wing multi engine   \n",
       "9  33.98  ...     0.0    1023.8   10.0  Fixed wing multi engine   \n",
       "\n",
       "       manufacturer            model  engines  seats     engine arr_delay  \n",
       "0            AIRBUS         A320-232      2.0  200.0  Turbo-fan       1.0  \n",
       "1            BOEING          737-832      2.0  189.0  Turbo-jet       0.0  \n",
       "2           EMBRAER        EMB-145XR      2.0   55.0  Turbo-fan       1.0  \n",
       "3               NaN              NaN      NaN    NaN        NaN       1.0  \n",
       "4  AIRBUS INDUSTRIE         A321-211      2.0  199.0  Turbo-jet       0.0  \n",
       "5            BOEING          737-724      2.0  149.0  Turbo-jet       0.0  \n",
       "6  AIRBUS INDUSTRIE         A320-232      2.0  200.0  Turbo-fan       1.0  \n",
       "7  AIRBUS INDUSTRIE         A319-131      2.0  179.0  Turbo-jet       0.0  \n",
       "8            BOEING          737-7BD      2.0  149.0  Turbo-fan       0.0  \n",
       "9           EMBRAER  ERJ 190-100 IGW      2.0   20.0  Turbo-fan       1.0  \n",
       "\n",
       "[10 rows x 25 columns]"
      ]
     },
     "execution_count": 8,
     "metadata": {},
     "output_type": "execute_result"
    }
   ],
   "source": [
    "flt.head(10)"
   ]
  },
  {
   "cell_type": "code",
   "execution_count": 9,
   "id": "509aaf4c",
   "metadata": {},
   "outputs": [
    {
     "name": "stdout",
     "output_type": "stream",
     "text": [
      "<class 'pandas.core.frame.DataFrame'>\n",
      "RangeIndex: 10000 entries, 0 to 9999\n",
      "Data columns (total 25 columns):\n",
      " #   Column        Non-Null Count  Dtype  \n",
      "---  ------        --------------  -----  \n",
      " 0   carrier       10000 non-null  object \n",
      " 1   flight        10000 non-null  int64  \n",
      " 2   tailnum       9926 non-null   object \n",
      " 3   origin        10000 non-null  object \n",
      " 4   dest          10000 non-null  object \n",
      " 5   air_time      9716 non-null   float64\n",
      " 6   distance      10000 non-null  int64  \n",
      " 7   hour          10000 non-null  int64  \n",
      " 8   minute        10000 non-null  int64  \n",
      " 9   temp          9952 non-null   float64\n",
      " 10  dewp          9952 non-null   float64\n",
      " 11  humid         9952 non-null   float64\n",
      " 12  wind_dir      9731 non-null   float64\n",
      " 13  wind_speed    9951 non-null   float64\n",
      " 14  wind_gust     2387 non-null   float64\n",
      " 15  precip        9954 non-null   float64\n",
      " 16  pressure      8808 non-null   float64\n",
      " 17  visib         9954 non-null   float64\n",
      " 18  type          8499 non-null   object \n",
      " 19  manufacturer  8499 non-null   object \n",
      " 20  model         8499 non-null   object \n",
      " 21  engines       8499 non-null   float64\n",
      " 22  seats         8499 non-null   float64\n",
      " 23  engine        8499 non-null   object \n",
      " 24  arr_delay     9716 non-null   float64\n",
      "dtypes: float64(13), int64(4), object(8)\n",
      "memory usage: 1.9+ MB\n"
     ]
    }
   ],
   "source": [
    "flt.info()"
   ]
  },
  {
   "cell_type": "markdown",
   "id": "6749d610",
   "metadata": {},
   "source": [
    "This was the error message displayed if we donot carry the NA step \"Input contains NaN, infinity or a value too large for dtype('float64').\""
   ]
  },
  {
   "cell_type": "code",
   "execution_count": 10,
   "id": "a9d31ba7",
   "metadata": {},
   "outputs": [],
   "source": [
    "flt = flt[flt['arr_delay'].notna()]"
   ]
  },
  {
   "cell_type": "code",
   "execution_count": 11,
   "id": "5fd0f4b4",
   "metadata": {},
   "outputs": [
    {
     "data": {
      "text/plain": [
       "carrier            0\n",
       "flight             0\n",
       "tailnum            0\n",
       "origin             0\n",
       "dest               0\n",
       "air_time           0\n",
       "distance           0\n",
       "hour               0\n",
       "minute             0\n",
       "temp              48\n",
       "dewp              48\n",
       "humid             48\n",
       "wind_dir         265\n",
       "wind_speed        49\n",
       "wind_gust       7433\n",
       "precip            46\n",
       "pressure        1111\n",
       "visib             46\n",
       "type            1365\n",
       "manufacturer    1365\n",
       "model           1365\n",
       "engines         1365\n",
       "seats           1365\n",
       "engine          1365\n",
       "arr_delay          0\n",
       "dtype: int64"
      ]
     },
     "execution_count": 11,
     "metadata": {},
     "output_type": "execute_result"
    }
   ],
   "source": [
    "flt.isnull().sum()"
   ]
  },
  {
   "cell_type": "markdown",
   "id": "a5a266b4",
   "metadata": {},
   "source": [
    "Dropping them because we don't need them."
   ]
  },
  {
   "cell_type": "code",
   "execution_count": 12,
   "id": "adce743b",
   "metadata": {},
   "outputs": [],
   "source": [
    "flt = flt.drop(['tailnum', 'flight'], axis=1)"
   ]
  },
  {
   "cell_type": "code",
   "execution_count": 13,
   "id": "29411b28",
   "metadata": {},
   "outputs": [
    {
     "data": {
      "image/png": "[encoded data removed]",
      "text/plain": [
       "<Figure size 864x648 with 2 Axes>"
      ]
     },
     "metadata": {
      "needs_background": "light"
     },
     "output_type": "display_data"
    }
   ],
   "source": [
    "corrmat = flt.corr()\n",
    "f, ax = plt.subplots(figsize=(12, 9))\n",
    "sns.heatmap(corrmat, vmax=.8, square=True);\n",
    "plt.show()"
   ]
  },
  {
   "cell_type": "code",
   "execution_count": 14,
   "id": "58564d50",
   "metadata": {},
   "outputs": [
    {
     "data": {
      "text/plain": [
       "array([[<AxesSubplot:title={'center':'air_time'}>,\n",
       "        <AxesSubplot:title={'center':'distance'}>,\n",
       "        <AxesSubplot:title={'center':'hour'}>,\n",
       "        <AxesSubplot:title={'center':'minute'}>],\n",
       "       [<AxesSubplot:title={'center':'temp'}>,\n",
       "        <AxesSubplot:title={'center':'dewp'}>,\n",
       "        <AxesSubplot:title={'center':'humid'}>,\n",
       "        <AxesSubplot:title={'center':'wind_dir'}>],\n",
       "       [<AxesSubplot:title={'center':'wind_speed'}>,\n",
       "        <AxesSubplot:title={'center':'wind_gust'}>,\n",
       "        <AxesSubplot:title={'center':'precip'}>,\n",
       "        <AxesSubplot:title={'center':'pressure'}>],\n",
       "       [<AxesSubplot:title={'center':'visib'}>,\n",
       "        <AxesSubplot:title={'center':'engines'}>,\n",
       "        <AxesSubplot:title={'center':'seats'}>,\n",
       "        <AxesSubplot:title={'center':'arr_delay'}>]], dtype=object)"
      ]
     },
     "execution_count": 14,
     "metadata": {},
     "output_type": "execute_result"
    },
    {
     "data": {
      "image/png": "[encoded data removed]",
      "text/plain": [
       "<Figure size 720x1080 with 16 Axes>"
      ]
     },
     "metadata": {
      "needs_background": "light"
     },
     "output_type": "display_data"
    }
   ],
   "source": [
    "flt.hist(figsize=(10,15))"
   ]
  },
  {
   "cell_type": "code",
   "execution_count": 15,
   "id": "90e94e34",
   "metadata": {},
   "outputs": [
    {
     "data": {
      "text/plain": [
       "<AxesSubplot:>"
      ]
     },
     "execution_count": 15,
     "metadata": {},
     "output_type": "execute_result"
    },
    {
     "data": {
      "image/png": "[encoded data removed]",
      "text/plain": [
       "<Figure size 432x288 with 1 Axes>"
      ]
     },
     "metadata": {
      "needs_background": "light"
     },
     "output_type": "display_data"
    }
   ],
   "source": [
    "flt['arr_delay'].hist()"
   ]
  },
  {
   "cell_type": "code",
   "execution_count": 16,
   "id": "4692475f",
   "metadata": {},
   "outputs": [],
   "source": [
    "from sklearn.model_selection import train_test_split\n",
    "from sklearn.pipeline import Pipeline\n",
    "from sklearn.preprocessing import StandardScaler\n",
    "from sklearn.decomposition import PCA\n",
    "from sklearn.linear_model import LogisticRegression"
   ]
  },
  {
   "cell_type": "code",
   "execution_count": 17,
   "id": "0096355e",
   "metadata": {},
   "outputs": [],
   "source": [
    "X=flt.drop('arr_delay', axis=1)\n",
    "y=flt['arr_delay']"
   ]
  },
  {
   "cell_type": "code",
   "execution_count": 18,
   "id": "631f9076",
   "metadata": {},
   "outputs": [
    {
     "name": "stdout",
     "output_type": "stream",
     "text": [
      "Training examples: 7,772\n",
      "Test examples: 1,944\n"
     ]
    }
   ],
   "source": [
    "X_train, X_test, y_train, y_test = train_test_split(X, y, test_size=0.20, random_state=42)\n",
    "print(f'Training examples: {X_train.shape[0]:,}')\n",
    "print(f'Test examples: {X_test.shape[0]:,}')"
   ]
  },
  {
   "cell_type": "code",
   "execution_count": 19,
   "id": "378ed46a",
   "metadata": {},
   "outputs": [],
   "source": [
    "from sklearn.preprocessing import StandardScaler\n",
    "from sklearn.preprocessing import LabelEncoder\n",
    "from sklearn.preprocessing import OneHotEncoder\n",
    "\n",
    "from sklearn.impute import SimpleImputer\n",
    "from sklearn.pipeline import Pipeline\n",
    "from sklearn.compose import ColumnTransformer\n",
    "\n",
    "num_var = ['air_time','distance','hour','minute','temp','dewp','humid','wind_dir','wind_speed','wind_gust','precip','pressure'\n",
    "          ,'visib','engines','seats']\n",
    "cat_var = ['origin']"
   ]
  },
  {
   "cell_type": "code",
   "execution_count": 46,
   "id": "c24f9c16",
   "metadata": {},
   "outputs": [
    {
     "data": {
      "text/plain": [
       "ColumnTransformer(transformers=[('cat',\n",
       "                                 Pipeline(steps=[('imputer',\n",
       "                                                  SimpleImputer(strategy='most_frequent')),\n",
       "                                                 ('encoder', OneHotEncoder())]),\n",
       "                                 ['origin']),\n",
       "                                ('num',\n",
       "                                 Pipeline(steps=[('imputer', SimpleImputer()),\n",
       "                                                 ('scaler', StandardScaler())]),\n",
       "                                 ['air_time', 'distance', 'hour', 'minute',\n",
       "                                  'temp', 'dewp', 'humid', 'wind_dir',\n",
       "                                  'wind_speed', 'wind_gust', 'precip',\n",
       "                                  'pressure', 'visib', 'engines', 'seats'])])"
      ]
     },
     "execution_count": 46,
     "metadata": {},
     "output_type": "execute_result"
    }
   ],
   "source": [
    "numeric_transformer =Pipeline(steps=[\n",
    "    (\"imputer\", SimpleImputer(strategy=\"mean\")),\n",
    "    (\"scaler\", StandardScaler())])\n",
    "categorical_transformer=Pipeline(steps=[\n",
    "    (\"imputer\",SimpleImputer(strategy=\"most_frequent\")),\n",
    "    (\"encoder\", OneHotEncoder())])\n",
    "processing_pipeline = ColumnTransformer(\n",
    "                      transformers=[(\n",
    "                      \"cat\", categorical_transformer, cat_var),\n",
    "                      (\"num\", numeric_transformer, num_var)])\n",
    "processing_pipeline"
   ]
  },
  {
   "cell_type": "markdown",
   "id": "5df4a1e3",
   "metadata": {},
   "source": [
    "### Logistic Regression"
   ]
  },
  {
   "cell_type": "code",
   "execution_count": 47,
   "id": "80261512",
   "metadata": {},
   "outputs": [
    {
     "data": {
      "text/plain": [
       "0.6743827160493827"
      ]
     },
     "execution_count": 47,
     "metadata": {},
     "output_type": "execute_result"
    }
   ],
   "source": [
    "\n",
    "from sklearn.linear_model import LogisticRegression\n",
    "from sklearn.model_selection import GridSearchCV\n",
    "\n",
    "params = {'classifier__C': (0.1, 1, 10, 100)}\n",
    "log_reg= Pipeline(steps=[('pipeline', processing_pipeline), \n",
    "                     ('classifier', LogisticRegression(max_iter=1000))])\n",
    "gs_lg = GridSearchCV(log_reg, params)\n",
    "\n",
    "gs_lg.fit(X_train, y_train)\n",
    "gs_lg.score(X_test, y_test)"
   ]
  },
  {
   "cell_type": "code",
   "execution_count": 56,
   "id": "d17d3aac",
   "metadata": {},
   "outputs": [
    {
     "data": {
      "text/plain": [
       "0.6722848618025468"
      ]
     },
     "execution_count": 56,
     "metadata": {},
     "output_type": "execute_result"
    }
   ],
   "source": [
    "#clf1 = LogisticRegression(penalty='l2', C=0.001, solver='lbfgs', random_state=0)\n",
    "#pipe1 = Pipeline([('scaler', StandardScaler()),('logreg', clf1)])\n",
    "\n",
    "gs_lg.best_score_"
   ]
  },
  {
   "cell_type": "markdown",
   "id": "ba6fdb99",
   "metadata": {},
   "source": [
    "### Decision Tree"
   ]
  },
  {
   "cell_type": "code",
   "execution_count": 48,
   "id": "9d83ba05",
   "metadata": {},
   "outputs": [
    {
     "data": {
      "text/plain": [
       "Pipeline(steps=[('data_processing',\n",
       "                 ColumnTransformer(transformers=[('cat',\n",
       "                                                  Pipeline(steps=[('imputer',\n",
       "                                                                   SimpleImputer(strategy='most_frequent')),\n",
       "                                                                  ('encoder',\n",
       "                                                                   OneHotEncoder())]),\n",
       "                                                  ['origin']),\n",
       "                                                 ('num',\n",
       "                                                  Pipeline(steps=[('imputer',\n",
       "                                                                   SimpleImputer()),\n",
       "                                                                  ('scaler',\n",
       "                                                                   StandardScaler())]),\n",
       "                                                  ['air_time', 'distance',\n",
       "                                                   'hour', 'minute', 'temp',\n",
       "                                                   'dewp', 'humid', 'wind_dir',\n",
       "                                                   'wind_speed', 'wind_gust',\n",
       "                                                   'precip', 'pressure',\n",
       "                                                   'visib', 'engines',\n",
       "                                                   'seats'])])),\n",
       "                ('dtree', DecisionTreeClassifier())])"
      ]
     },
     "execution_count": 48,
     "metadata": {},
     "output_type": "execute_result"
    }
   ],
   "source": [
    "from sklearn.tree import DecisionTreeClassifier\n",
    "model_dt = Pipeline([('data_processing',processing_pipeline),('dtree',DecisionTreeClassifier())])\n",
    "model_dt"
   ]
  },
  {
   "cell_type": "code",
   "execution_count": 24,
   "id": "2fa27549",
   "metadata": {},
   "outputs": [],
   "source": [
    "griddt = [{ 'dtree__max_depth':[1,3,5,10,15,20]}]\n",
    "\n",
    "gsdecision= GridSearchCV(estimator=model_dt, param_grid=griddt, scoring='roc_auc', refit=True)\n",
    "gsdecision =gsdecision.fit(X_train,y_train)"
   ]
  },
  {
   "cell_type": "code",
   "execution_count": 25,
   "id": "59cfda07",
   "metadata": {},
   "outputs": [
    {
     "data": {
      "text/plain": [
       "0.6425222142531053"
      ]
     },
     "execution_count": 25,
     "metadata": {},
     "output_type": "execute_result"
    }
   ],
   "source": [
    "gsdecision.best_score_"
   ]
  },
  {
   "cell_type": "markdown",
   "id": "605b01a8",
   "metadata": {},
   "source": [
    "Decision tree has less score than Logistic regression."
   ]
  },
  {
   "cell_type": "markdown",
   "id": "7145636e",
   "metadata": {},
   "source": [
    "### Support Vector Machine"
   ]
  },
  {
   "cell_type": "code",
   "execution_count": 32,
   "id": "e4b02255",
   "metadata": {},
   "outputs": [],
   "source": [
    "\n",
    "from sklearn.model_selection import cross_val_score\n",
    "from sklearn.linear_model import LogisticRegression\n",
    "from sklearn.tree import DecisionTreeClassifier\n",
    "from sklearn.neighbors import KNeighborsClassifier\n",
    "from sklearn.pipeline import Pipeline\n",
    "import numpy as np"
   ]
  },
  {
   "cell_type": "code",
   "execution_count": 49,
   "id": "6f112081",
   "metadata": {},
   "outputs": [],
   "source": [
    "from sklearn.svm import SVC\n",
    "gs_svm = modeling_pipeline = Pipeline([('data_processing',processing_pipeline),\n",
    "                                       ('model', SVC(probability=True))])\n",
    "param_grid = [\n",
    "  {'model__C': [0.01, 0.1, 1, 10], 'model__kernel': ['linear']}\n",
    " ]\n",
    "\n",
    "svm_results = GridSearchCV(estimator=gs_svm, param_grid=param_grid, scoring='roc_auc', refit=True)\n",
    "svm_results = svm_results.fit(X_train,y_train)"
   ]
  },
  {
   "cell_type": "code",
   "execution_count": 50,
   "id": "4c2b11dd",
   "metadata": {},
   "outputs": [
    {
     "data": {
      "text/plain": [
       "0.7109862320810016"
      ]
     },
     "execution_count": 50,
     "metadata": {},
     "output_type": "execute_result"
    }
   ],
   "source": [
    "svm_results.best_score_"
   ]
  },
  {
   "cell_type": "markdown",
   "id": "57ee460e",
   "metadata": {},
   "source": [
    "The Scores of the models are-"
   ]
  },
  {
   "cell_type": "code",
   "execution_count": 78,
   "id": "ec15d3a0",
   "metadata": {},
   "outputs": [
    {
     "name": "stdout",
     "output_type": "stream",
     "text": [
      "Support Vector Machine Score: 71.09862320810016\n",
      "Logistic Regression Score: 67.22848618025468\n",
      "Decision Tree Score: 64.25222142531052\n"
     ]
    }
   ],
   "source": [
    "## Score in the order\n",
    "print(f'Support Vector Machine Score: {svm_results.best_score_ *100}')\n",
    "print(f'Logistic Regression Score: {gs_lg.best_score_ *100}')\n",
    "print(f'Decision Tree Score: {gsdecision.best_score_ *100}')\n"
   ]
  },
  {
   "cell_type": "markdown",
   "id": "ed94e7a8",
   "metadata": {},
   "source": [
    "Here the SVM has better score of 71%. Second best is Logistic Regression with 67.2%.\n",
    "SVM took too much time too run even though it has a better accuracy I would prefer LR."
   ]
  },
  {
   "cell_type": "markdown",
   "id": "292f863c",
   "metadata": {},
   "source": [
    "### Ensemble"
   ]
  },
  {
   "cell_type": "code",
   "execution_count": 61,
   "id": "a6947f57",
   "metadata": {},
   "outputs": [],
   "source": [
    "from sklearn.ensemble import VotingClassifier\n",
    "\n",
    "ems = [('lr', log_reg),('dt', model_dt),('svc', gs_svm)]\n",
    "clf4 = VotingClassifier(estimators= ems, weights=None, voting='soft')"
   ]
  },
  {
   "cell_type": "code",
   "execution_count": 62,
   "id": "1c8b13d7",
   "metadata": {},
   "outputs": [
    {
     "name": "stdout",
     "output_type": "stream",
     "text": [
      "ROC AUC 0.69 (+/- 0.01) [Ensemble]\n"
     ]
    }
   ],
   "source": [
    "scores = cross_val_score(estimator=clf4, X=X_train, y=y_train, cv=10, scoring='roc_auc')\n",
    "print(f'ROC AUC {scores.mean():.2f} (+/- {scores.std():.2f}) [Ensemble]')"
   ]
  },
  {
   "cell_type": "markdown",
   "id": "fe6a985e",
   "metadata": {},
   "source": [
    "### ADABoost"
   ]
  },
  {
   "cell_type": "code",
   "execution_count": 75,
   "id": "4fa3e5e5",
   "metadata": {},
   "outputs": [
    {
     "name": "stdout",
     "output_type": "stream",
     "text": [
      "Accuracy: 0.806 (0.041)\n"
     ]
    }
   ],
   "source": [
    "#From: https://machinelearningmastery.com/adaboost-ensemble-in-python/\n",
    "\n",
    "from numpy import mean\n",
    "from numpy import std\n",
    "from sklearn.datasets import make_classification\n",
    "from sklearn.model_selection import cross_val_score\n",
    "from sklearn.model_selection import RepeatedStratifiedKFold\n",
    "from sklearn.ensemble import AdaBoostClassifier\n",
    "\n",
    "X, y = make_classification(n_samples=1000, n_features=20, n_informative=15, n_redundant=5, random_state=6)\n",
    "\n",
    "model = AdaBoostClassifier()\n",
    "\n",
    "cv = RepeatedStratifiedKFold(n_splits=10, n_repeats=3, random_state=1)\n",
    "n_scores = cross_val_score(model, X, y, scoring='accuracy', cv=cv, n_jobs=-1, error_score='raise')\n",
    "\n",
    "print('Accuracy: %.3f (%.3f)' % (mean(n_scores), std(n_scores)))"
   ]
  },
  {
   "cell_type": "code",
   "execution_count": null,
   "id": "e61d8bd3",
   "metadata": {},
   "outputs": [],
   "source": []
  },
  {
   "cell_type": "code",
   "execution_count": null,
   "id": "f1867c58",
   "metadata": {},
   "outputs": [],
   "source": []
  }
 ],
 "metadata": {
  "kernelspec": {
   "display_name": "Python 3",
   "language": "python",
   "name": "python3"
  },
  "language_info": {
   "codemirror_mode": {
    "name": "ipython",
    "version": 3
   },
   "file_extension": ".py",
   "mimetype": "text/x-python",
   "name": "python",
   "nbconvert_exporter": "python",
   "pygments_lexer": "ipython3",
   "version": "3.8.8"
  }
 },
 "nbformat": 4,
 "nbformat_minor": 5
}
