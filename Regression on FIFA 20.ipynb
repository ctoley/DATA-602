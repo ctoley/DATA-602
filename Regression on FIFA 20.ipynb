{
 "cells": [
  {
   "cell_type": "code",
   "execution_count": 1,
   "id": "34c803f7",
   "metadata": {},
   "outputs": [],
   "source": [
    "import numpy as np\n",
    "import pandas as pd\n",
    "import matplotlib.pyplot as plt\n",
    "import seaborn as sns"
   ]
  },
  {
   "cell_type": "code",
   "execution_count": 2,
   "id": "81b4653d",
   "metadata": {},
   "outputs": [],
   "source": [
    "fifa = pd.read_csv('players_20.csv')"
   ]
  },
  {
   "cell_type": "code",
   "execution_count": 163,
   "id": "f49dbb92",
   "metadata": {},
   "outputs": [],
   "source": [
    "pd.options.display.max_rows = 999"
   ]
  },
  {
   "cell_type": "code",
   "execution_count": 164,
   "id": "6dd60545",
   "metadata": {},
   "outputs": [
    {
     "data": {
      "text/html": [
       "<div>\n",
       "<style scoped>\n",
       "    .dataframe tbody tr th:only-of-type {\n",
       "        vertical-align: middle;\n",
       "    }\n",
       "\n",
       "    .dataframe tbody tr th {\n",
       "        vertical-align: top;\n",
       "    }\n",
       "\n",
       "    .dataframe thead th {\n",
       "        text-align: right;\n",
       "    }\n",
       "</style>\n",
       "<table border=\"1\" class=\"dataframe\">\n",
       "  <thead>\n",
       "    <tr style=\"text-align: right;\">\n",
       "      <th></th>\n",
       "      <th>sofifa_id</th>\n",
       "      <th>player_url</th>\n",
       "      <th>short_name</th>\n",
       "      <th>long_name</th>\n",
       "      <th>age</th>\n",
       "      <th>dob</th>\n",
       "      <th>height_cm</th>\n",
       "      <th>weight_kg</th>\n",
       "      <th>nationality</th>\n",
       "      <th>club_name</th>\n",
       "      <th>...</th>\n",
       "      <th>lwb</th>\n",
       "      <th>ldm</th>\n",
       "      <th>cdm</th>\n",
       "      <th>rdm</th>\n",
       "      <th>rwb</th>\n",
       "      <th>lb</th>\n",
       "      <th>lcb</th>\n",
       "      <th>cb</th>\n",
       "      <th>rcb</th>\n",
       "      <th>rb</th>\n",
       "    </tr>\n",
       "  </thead>\n",
       "  <tbody>\n",
       "    <tr>\n",
       "      <th>0</th>\n",
       "      <td>158023</td>\n",
       "      <td>https://sofifa.com/player/158023/lionel-messi/...</td>\n",
       "      <td>L. Messi</td>\n",
       "      <td>Lionel Andrés Messi Cuccittini</td>\n",
       "      <td>32</td>\n",
       "      <td>1987-06-24</td>\n",
       "      <td>170</td>\n",
       "      <td>72</td>\n",
       "      <td>Argentina</td>\n",
       "      <td>FC Barcelona</td>\n",
       "      <td>...</td>\n",
       "      <td>68+6</td>\n",
       "      <td>66+6</td>\n",
       "      <td>66+6</td>\n",
       "      <td>66+6</td>\n",
       "      <td>68+6</td>\n",
       "      <td>63+6</td>\n",
       "      <td>53+6</td>\n",
       "      <td>53+6</td>\n",
       "      <td>53+6</td>\n",
       "      <td>63+6</td>\n",
       "    </tr>\n",
       "    <tr>\n",
       "      <th>1</th>\n",
       "      <td>20801</td>\n",
       "      <td>https://sofifa.com/player/20801/c-ronaldo-dos-...</td>\n",
       "      <td>Cristiano Ronaldo</td>\n",
       "      <td>Cristiano Ronaldo dos Santos Aveiro</td>\n",
       "      <td>34</td>\n",
       "      <td>1985-02-05</td>\n",
       "      <td>187</td>\n",
       "      <td>83</td>\n",
       "      <td>Portugal</td>\n",
       "      <td>Juventus</td>\n",
       "      <td>...</td>\n",
       "      <td>65+3</td>\n",
       "      <td>62+3</td>\n",
       "      <td>62+3</td>\n",
       "      <td>62+3</td>\n",
       "      <td>65+3</td>\n",
       "      <td>61+3</td>\n",
       "      <td>54+3</td>\n",
       "      <td>54+3</td>\n",
       "      <td>54+3</td>\n",
       "      <td>61+3</td>\n",
       "    </tr>\n",
       "    <tr>\n",
       "      <th>2</th>\n",
       "      <td>190871</td>\n",
       "      <td>https://sofifa.com/player/190871/neymar-da-sil...</td>\n",
       "      <td>Neymar Jr</td>\n",
       "      <td>Neymar da Silva Santos Júnior</td>\n",
       "      <td>27</td>\n",
       "      <td>1992-02-05</td>\n",
       "      <td>175</td>\n",
       "      <td>68</td>\n",
       "      <td>Brazil</td>\n",
       "      <td>Paris Saint-Germain</td>\n",
       "      <td>...</td>\n",
       "      <td>67+6</td>\n",
       "      <td>61+6</td>\n",
       "      <td>61+6</td>\n",
       "      <td>61+6</td>\n",
       "      <td>67+6</td>\n",
       "      <td>61+6</td>\n",
       "      <td>47+6</td>\n",
       "      <td>47+6</td>\n",
       "      <td>47+6</td>\n",
       "      <td>61+6</td>\n",
       "    </tr>\n",
       "    <tr>\n",
       "      <th>3</th>\n",
       "      <td>200389</td>\n",
       "      <td>https://sofifa.com/player/200389/jan-oblak/200002</td>\n",
       "      <td>J. Oblak</td>\n",
       "      <td>Jan Oblak</td>\n",
       "      <td>26</td>\n",
       "      <td>1993-01-07</td>\n",
       "      <td>188</td>\n",
       "      <td>87</td>\n",
       "      <td>Slovenia</td>\n",
       "      <td>Atlético Madrid</td>\n",
       "      <td>...</td>\n",
       "      <td>32+3</td>\n",
       "      <td>36+3</td>\n",
       "      <td>36+3</td>\n",
       "      <td>36+3</td>\n",
       "      <td>32+3</td>\n",
       "      <td>32+3</td>\n",
       "      <td>33+3</td>\n",
       "      <td>33+3</td>\n",
       "      <td>33+3</td>\n",
       "      <td>32+3</td>\n",
       "    </tr>\n",
       "    <tr>\n",
       "      <th>4</th>\n",
       "      <td>183277</td>\n",
       "      <td>https://sofifa.com/player/183277/eden-hazard/2...</td>\n",
       "      <td>E. Hazard</td>\n",
       "      <td>Eden Hazard</td>\n",
       "      <td>28</td>\n",
       "      <td>1991-01-07</td>\n",
       "      <td>175</td>\n",
       "      <td>74</td>\n",
       "      <td>Belgium</td>\n",
       "      <td>Real Madrid</td>\n",
       "      <td>...</td>\n",
       "      <td>66+6</td>\n",
       "      <td>63+6</td>\n",
       "      <td>63+6</td>\n",
       "      <td>63+6</td>\n",
       "      <td>66+6</td>\n",
       "      <td>61+6</td>\n",
       "      <td>49+6</td>\n",
       "      <td>49+6</td>\n",
       "      <td>49+6</td>\n",
       "      <td>61+6</td>\n",
       "    </tr>\n",
       "    <tr>\n",
       "      <th>5</th>\n",
       "      <td>192985</td>\n",
       "      <td>https://sofifa.com/player/192985/kevin-de-bruy...</td>\n",
       "      <td>K. De Bruyne</td>\n",
       "      <td>Kevin De Bruyne</td>\n",
       "      <td>28</td>\n",
       "      <td>1991-06-28</td>\n",
       "      <td>181</td>\n",
       "      <td>70</td>\n",
       "      <td>Belgium</td>\n",
       "      <td>Manchester City</td>\n",
       "      <td>...</td>\n",
       "      <td>77+3</td>\n",
       "      <td>77+3</td>\n",
       "      <td>77+3</td>\n",
       "      <td>77+3</td>\n",
       "      <td>77+3</td>\n",
       "      <td>73+3</td>\n",
       "      <td>67+3</td>\n",
       "      <td>67+3</td>\n",
       "      <td>67+3</td>\n",
       "      <td>73+3</td>\n",
       "    </tr>\n",
       "    <tr>\n",
       "      <th>6</th>\n",
       "      <td>192448</td>\n",
       "      <td>https://sofifa.com/player/192448/marc-andre-te...</td>\n",
       "      <td>M. ter Stegen</td>\n",
       "      <td>Marc-André ter Stegen</td>\n",
       "      <td>27</td>\n",
       "      <td>1992-04-30</td>\n",
       "      <td>187</td>\n",
       "      <td>85</td>\n",
       "      <td>Germany</td>\n",
       "      <td>FC Barcelona</td>\n",
       "      <td>...</td>\n",
       "      <td>33+3</td>\n",
       "      <td>41+3</td>\n",
       "      <td>41+3</td>\n",
       "      <td>41+3</td>\n",
       "      <td>33+3</td>\n",
       "      <td>31+3</td>\n",
       "      <td>33+3</td>\n",
       "      <td>33+3</td>\n",
       "      <td>33+3</td>\n",
       "      <td>31+3</td>\n",
       "    </tr>\n",
       "    <tr>\n",
       "      <th>7</th>\n",
       "      <td>203376</td>\n",
       "      <td>https://sofifa.com/player/203376/virgil-van-di...</td>\n",
       "      <td>V. van Dijk</td>\n",
       "      <td>Virgil van Dijk</td>\n",
       "      <td>27</td>\n",
       "      <td>1991-07-08</td>\n",
       "      <td>193</td>\n",
       "      <td>92</td>\n",
       "      <td>Netherlands</td>\n",
       "      <td>Liverpool</td>\n",
       "      <td>...</td>\n",
       "      <td>79+3</td>\n",
       "      <td>84+3</td>\n",
       "      <td>84+3</td>\n",
       "      <td>84+3</td>\n",
       "      <td>79+3</td>\n",
       "      <td>81+3</td>\n",
       "      <td>88+3</td>\n",
       "      <td>88+3</td>\n",
       "      <td>88+3</td>\n",
       "      <td>81+3</td>\n",
       "    </tr>\n",
       "    <tr>\n",
       "      <th>8</th>\n",
       "      <td>177003</td>\n",
       "      <td>https://sofifa.com/player/177003/luka-modric/2...</td>\n",
       "      <td>L. Modrić</td>\n",
       "      <td>Luka Modrić</td>\n",
       "      <td>33</td>\n",
       "      <td>1985-09-09</td>\n",
       "      <td>172</td>\n",
       "      <td>66</td>\n",
       "      <td>Croatia</td>\n",
       "      <td>Real Madrid</td>\n",
       "      <td>...</td>\n",
       "      <td>82+3</td>\n",
       "      <td>82+3</td>\n",
       "      <td>82+3</td>\n",
       "      <td>82+3</td>\n",
       "      <td>82+3</td>\n",
       "      <td>79+3</td>\n",
       "      <td>72+3</td>\n",
       "      <td>72+3</td>\n",
       "      <td>72+3</td>\n",
       "      <td>79+3</td>\n",
       "    </tr>\n",
       "    <tr>\n",
       "      <th>9</th>\n",
       "      <td>209331</td>\n",
       "      <td>https://sofifa.com/player/209331/mohamed-salah...</td>\n",
       "      <td>M. Salah</td>\n",
       "      <td>Mohamed Salah Ghaly</td>\n",
       "      <td>27</td>\n",
       "      <td>1992-06-15</td>\n",
       "      <td>175</td>\n",
       "      <td>71</td>\n",
       "      <td>Egypt</td>\n",
       "      <td>Liverpool</td>\n",
       "      <td>...</td>\n",
       "      <td>71+6</td>\n",
       "      <td>67+6</td>\n",
       "      <td>67+6</td>\n",
       "      <td>67+6</td>\n",
       "      <td>71+6</td>\n",
       "      <td>67+6</td>\n",
       "      <td>58+6</td>\n",
       "      <td>58+6</td>\n",
       "      <td>58+6</td>\n",
       "      <td>67+6</td>\n",
       "    </tr>\n",
       "  </tbody>\n",
       "</table>\n",
       "<p>10 rows × 106 columns</p>\n",
       "</div>"
      ],
      "text/plain": [
       "   sofifa_id                                         player_url  \\\n",
       "0     158023  https://sofifa.com/player/158023/lionel-messi/...   \n",
       "1      20801  https://sofifa.com/player/20801/c-ronaldo-dos-...   \n",
       "2     190871  https://sofifa.com/player/190871/neymar-da-sil...   \n",
       "3     200389  https://sofifa.com/player/200389/jan-oblak/200002   \n",
       "4     183277  https://sofifa.com/player/183277/eden-hazard/2...   \n",
       "5     192985  https://sofifa.com/player/192985/kevin-de-bruy...   \n",
       "6     192448  https://sofifa.com/player/192448/marc-andre-te...   \n",
       "7     203376  https://sofifa.com/player/203376/virgil-van-di...   \n",
       "8     177003  https://sofifa.com/player/177003/luka-modric/2...   \n",
       "9     209331  https://sofifa.com/player/209331/mohamed-salah...   \n",
       "\n",
       "          short_name                            long_name  age         dob  \\\n",
       "0           L. Messi       Lionel Andrés Messi Cuccittini   32  1987-06-24   \n",
       "1  Cristiano Ronaldo  Cristiano Ronaldo dos Santos Aveiro   34  1985-02-05   \n",
       "2          Neymar Jr        Neymar da Silva Santos Júnior   27  1992-02-05   \n",
       "3           J. Oblak                            Jan Oblak   26  1993-01-07   \n",
       "4          E. Hazard                          Eden Hazard   28  1991-01-07   \n",
       "5       K. De Bruyne                      Kevin De Bruyne   28  1991-06-28   \n",
       "6      M. ter Stegen                Marc-André ter Stegen   27  1992-04-30   \n",
       "7        V. van Dijk                      Virgil van Dijk   27  1991-07-08   \n",
       "8          L. Modrić                          Luka Modrić   33  1985-09-09   \n",
       "9           M. Salah                  Mohamed Salah Ghaly   27  1992-06-15   \n",
       "\n",
       "   height_cm  weight_kg  nationality            club_name  ...   lwb   ldm  \\\n",
       "0        170         72    Argentina         FC Barcelona  ...  68+6  66+6   \n",
       "1        187         83     Portugal             Juventus  ...  65+3  62+3   \n",
       "2        175         68       Brazil  Paris Saint-Germain  ...  67+6  61+6   \n",
       "3        188         87     Slovenia      Atlético Madrid  ...  32+3  36+3   \n",
       "4        175         74      Belgium          Real Madrid  ...  66+6  63+6   \n",
       "5        181         70      Belgium      Manchester City  ...  77+3  77+3   \n",
       "6        187         85      Germany         FC Barcelona  ...  33+3  41+3   \n",
       "7        193         92  Netherlands            Liverpool  ...  79+3  84+3   \n",
       "8        172         66      Croatia          Real Madrid  ...  82+3  82+3   \n",
       "9        175         71        Egypt            Liverpool  ...  71+6  67+6   \n",
       "\n",
       "    cdm   rdm   rwb    lb   lcb    cb   rcb    rb  \n",
       "0  66+6  66+6  68+6  63+6  53+6  53+6  53+6  63+6  \n",
       "1  62+3  62+3  65+3  61+3  54+3  54+3  54+3  61+3  \n",
       "2  61+6  61+6  67+6  61+6  47+6  47+6  47+6  61+6  \n",
       "3  36+3  36+3  32+3  32+3  33+3  33+3  33+3  32+3  \n",
       "4  63+6  63+6  66+6  61+6  49+6  49+6  49+6  61+6  \n",
       "5  77+3  77+3  77+3  73+3  67+3  67+3  67+3  73+3  \n",
       "6  41+3  41+3  33+3  31+3  33+3  33+3  33+3  31+3  \n",
       "7  84+3  84+3  79+3  81+3  88+3  88+3  88+3  81+3  \n",
       "8  82+3  82+3  82+3  79+3  72+3  72+3  72+3  79+3  \n",
       "9  67+6  67+6  71+6  67+6  58+6  58+6  58+6  67+6  \n",
       "\n",
       "[10 rows x 106 columns]"
      ]
     },
     "execution_count": 164,
     "metadata": {},
     "output_type": "execute_result"
    }
   ],
   "source": [
    "#TOP 10 players from the FIFA 2020 List\n",
    "\n",
    "fifa.head(10)"
   ]
  },
  {
   "cell_type": "code",
   "execution_count": 165,
   "id": "17b54bb0",
   "metadata": {},
   "outputs": [
    {
     "data": {
      "text/html": [
       "<div>\n",
       "<style scoped>\n",
       "    .dataframe tbody tr th:only-of-type {\n",
       "        vertical-align: middle;\n",
       "    }\n",
       "\n",
       "    .dataframe tbody tr th {\n",
       "        vertical-align: top;\n",
       "    }\n",
       "\n",
       "    .dataframe thead th {\n",
       "        text-align: right;\n",
       "    }\n",
       "</style>\n",
       "<table border=\"1\" class=\"dataframe\">\n",
       "  <thead>\n",
       "    <tr style=\"text-align: right;\">\n",
       "      <th></th>\n",
       "      <th>sofifa_id</th>\n",
       "      <th>player_url</th>\n",
       "      <th>short_name</th>\n",
       "      <th>long_name</th>\n",
       "      <th>age</th>\n",
       "      <th>dob</th>\n",
       "      <th>height_cm</th>\n",
       "      <th>weight_kg</th>\n",
       "      <th>nationality</th>\n",
       "      <th>club_name</th>\n",
       "      <th>...</th>\n",
       "      <th>lwb</th>\n",
       "      <th>ldm</th>\n",
       "      <th>cdm</th>\n",
       "      <th>rdm</th>\n",
       "      <th>rwb</th>\n",
       "      <th>lb</th>\n",
       "      <th>lcb</th>\n",
       "      <th>cb</th>\n",
       "      <th>rcb</th>\n",
       "      <th>rb</th>\n",
       "    </tr>\n",
       "  </thead>\n",
       "  <tbody>\n",
       "    <tr>\n",
       "      <th>18473</th>\n",
       "      <td>247452</td>\n",
       "      <td>https://sofifa.com/player/247452/michael-galla...</td>\n",
       "      <td>M. Gallagher</td>\n",
       "      <td>Michael Gallagher</td>\n",
       "      <td>18</td>\n",
       "      <td>2000-07-09</td>\n",
       "      <td>178</td>\n",
       "      <td>70</td>\n",
       "      <td>Republic of Ireland</td>\n",
       "      <td>Finn Harps</td>\n",
       "      <td>...</td>\n",
       "      <td>40+2</td>\n",
       "      <td>41+2</td>\n",
       "      <td>41+2</td>\n",
       "      <td>41+2</td>\n",
       "      <td>40+2</td>\n",
       "      <td>40+2</td>\n",
       "      <td>40+2</td>\n",
       "      <td>40+2</td>\n",
       "      <td>40+2</td>\n",
       "      <td>40+2</td>\n",
       "    </tr>\n",
       "    <tr>\n",
       "      <th>18474</th>\n",
       "      <td>252181</td>\n",
       "      <td>https://sofifa.com/player/252181/jiahui-huang/...</td>\n",
       "      <td>Huang Jiahui</td>\n",
       "      <td>黄家辉</td>\n",
       "      <td>18</td>\n",
       "      <td>2000-10-07</td>\n",
       "      <td>183</td>\n",
       "      <td>74</td>\n",
       "      <td>China PR</td>\n",
       "      <td>Dalian YiFang FC</td>\n",
       "      <td>...</td>\n",
       "      <td>44+2</td>\n",
       "      <td>41+2</td>\n",
       "      <td>41+2</td>\n",
       "      <td>41+2</td>\n",
       "      <td>44+2</td>\n",
       "      <td>47+2</td>\n",
       "      <td>47+2</td>\n",
       "      <td>47+2</td>\n",
       "      <td>47+2</td>\n",
       "      <td>47+2</td>\n",
       "    </tr>\n",
       "    <tr>\n",
       "      <th>18475</th>\n",
       "      <td>252568</td>\n",
       "      <td>https://sofifa.com/player/252568/mohammed-saga...</td>\n",
       "      <td>M. Sagaf</td>\n",
       "      <td>Mohammed Ali Sagaf</td>\n",
       "      <td>21</td>\n",
       "      <td>1997-11-12</td>\n",
       "      <td>177</td>\n",
       "      <td>70</td>\n",
       "      <td>England</td>\n",
       "      <td>Carlisle United</td>\n",
       "      <td>...</td>\n",
       "      <td>45+2</td>\n",
       "      <td>45+2</td>\n",
       "      <td>45+2</td>\n",
       "      <td>45+2</td>\n",
       "      <td>45+2</td>\n",
       "      <td>45+2</td>\n",
       "      <td>44+2</td>\n",
       "      <td>44+2</td>\n",
       "      <td>44+2</td>\n",
       "      <td>45+2</td>\n",
       "    </tr>\n",
       "    <tr>\n",
       "      <th>18476</th>\n",
       "      <td>243961</td>\n",
       "      <td>https://sofifa.com/player/243961/evan-tweed/20...</td>\n",
       "      <td>E. Tweed</td>\n",
       "      <td>Evan Tweed</td>\n",
       "      <td>20</td>\n",
       "      <td>1999-03-01</td>\n",
       "      <td>180</td>\n",
       "      <td>72</td>\n",
       "      <td>Republic of Ireland</td>\n",
       "      <td>Derry City</td>\n",
       "      <td>...</td>\n",
       "      <td>46+2</td>\n",
       "      <td>47+2</td>\n",
       "      <td>47+2</td>\n",
       "      <td>47+2</td>\n",
       "      <td>46+2</td>\n",
       "      <td>46+2</td>\n",
       "      <td>46+2</td>\n",
       "      <td>46+2</td>\n",
       "      <td>46+2</td>\n",
       "      <td>46+2</td>\n",
       "    </tr>\n",
       "    <tr>\n",
       "      <th>18477</th>\n",
       "      <td>251789</td>\n",
       "      <td>https://sofifa.com/player/251789/paul-martin/2...</td>\n",
       "      <td>P. Martin</td>\n",
       "      <td>Paul Martin</td>\n",
       "      <td>20</td>\n",
       "      <td>1999-01-05</td>\n",
       "      <td>188</td>\n",
       "      <td>84</td>\n",
       "      <td>Republic of Ireland</td>\n",
       "      <td>Waterford FC</td>\n",
       "      <td>...</td>\n",
       "      <td>16+2</td>\n",
       "      <td>18+2</td>\n",
       "      <td>18+2</td>\n",
       "      <td>18+2</td>\n",
       "      <td>16+2</td>\n",
       "      <td>16+2</td>\n",
       "      <td>19+2</td>\n",
       "      <td>19+2</td>\n",
       "      <td>19+2</td>\n",
       "      <td>16+2</td>\n",
       "    </tr>\n",
       "    <tr>\n",
       "      <th>18478</th>\n",
       "      <td>245006</td>\n",
       "      <td>https://sofifa.com/player/245006/shuai-shao/20...</td>\n",
       "      <td>Shao Shuai</td>\n",
       "      <td>邵帅</td>\n",
       "      <td>22</td>\n",
       "      <td>1997-03-10</td>\n",
       "      <td>186</td>\n",
       "      <td>79</td>\n",
       "      <td>China PR</td>\n",
       "      <td>Beijing Renhe FC</td>\n",
       "      <td>...</td>\n",
       "      <td>43+2</td>\n",
       "      <td>42+2</td>\n",
       "      <td>42+2</td>\n",
       "      <td>42+2</td>\n",
       "      <td>43+2</td>\n",
       "      <td>45+2</td>\n",
       "      <td>47+2</td>\n",
       "      <td>47+2</td>\n",
       "      <td>47+2</td>\n",
       "      <td>45+2</td>\n",
       "    </tr>\n",
       "    <tr>\n",
       "      <th>18479</th>\n",
       "      <td>250995</td>\n",
       "      <td>https://sofifa.com/player/250995/mingjie-xiao/...</td>\n",
       "      <td>Xiao Mingjie</td>\n",
       "      <td>肖明杰</td>\n",
       "      <td>22</td>\n",
       "      <td>1997-01-01</td>\n",
       "      <td>177</td>\n",
       "      <td>66</td>\n",
       "      <td>China PR</td>\n",
       "      <td>Shanghai SIPG FC</td>\n",
       "      <td>...</td>\n",
       "      <td>45+2</td>\n",
       "      <td>44+2</td>\n",
       "      <td>44+2</td>\n",
       "      <td>44+2</td>\n",
       "      <td>45+2</td>\n",
       "      <td>47+2</td>\n",
       "      <td>47+2</td>\n",
       "      <td>47+2</td>\n",
       "      <td>47+2</td>\n",
       "      <td>47+2</td>\n",
       "    </tr>\n",
       "    <tr>\n",
       "      <th>18480</th>\n",
       "      <td>252332</td>\n",
       "      <td>https://sofifa.com/player/252332/wei-zhang/200002</td>\n",
       "      <td>Zhang Wei</td>\n",
       "      <td>张威</td>\n",
       "      <td>19</td>\n",
       "      <td>2000-05-16</td>\n",
       "      <td>186</td>\n",
       "      <td>75</td>\n",
       "      <td>China PR</td>\n",
       "      <td>Hebei China Fortune FC</td>\n",
       "      <td>...</td>\n",
       "      <td>47+2</td>\n",
       "      <td>50+2</td>\n",
       "      <td>50+2</td>\n",
       "      <td>50+2</td>\n",
       "      <td>47+2</td>\n",
       "      <td>48+2</td>\n",
       "      <td>49+2</td>\n",
       "      <td>49+2</td>\n",
       "      <td>49+2</td>\n",
       "      <td>48+2</td>\n",
       "    </tr>\n",
       "    <tr>\n",
       "      <th>18481</th>\n",
       "      <td>251110</td>\n",
       "      <td>https://sofifa.com/player/251110/haijian-wang/...</td>\n",
       "      <td>Wang Haijian</td>\n",
       "      <td>汪海健</td>\n",
       "      <td>18</td>\n",
       "      <td>2000-08-02</td>\n",
       "      <td>185</td>\n",
       "      <td>74</td>\n",
       "      <td>China PR</td>\n",
       "      <td>Shanghai Greenland Shenhua FC</td>\n",
       "      <td>...</td>\n",
       "      <td>48+2</td>\n",
       "      <td>49+2</td>\n",
       "      <td>49+2</td>\n",
       "      <td>49+2</td>\n",
       "      <td>48+2</td>\n",
       "      <td>49+2</td>\n",
       "      <td>49+2</td>\n",
       "      <td>49+2</td>\n",
       "      <td>49+2</td>\n",
       "      <td>49+2</td>\n",
       "    </tr>\n",
       "    <tr>\n",
       "      <th>18482</th>\n",
       "      <td>233449</td>\n",
       "      <td>https://sofifa.com/player/233449/ximing-pan/20...</td>\n",
       "      <td>Pan Ximing</td>\n",
       "      <td>潘喜明</td>\n",
       "      <td>26</td>\n",
       "      <td>1993-01-11</td>\n",
       "      <td>182</td>\n",
       "      <td>78</td>\n",
       "      <td>China PR</td>\n",
       "      <td>Hebei China Fortune FC</td>\n",
       "      <td>...</td>\n",
       "      <td>48+2</td>\n",
       "      <td>50+1</td>\n",
       "      <td>50+1</td>\n",
       "      <td>50+1</td>\n",
       "      <td>48+2</td>\n",
       "      <td>49+2</td>\n",
       "      <td>50+1</td>\n",
       "      <td>50+1</td>\n",
       "      <td>50+1</td>\n",
       "      <td>49+2</td>\n",
       "    </tr>\n",
       "  </tbody>\n",
       "</table>\n",
       "<p>10 rows × 106 columns</p>\n",
       "</div>"
      ],
      "text/plain": [
       "       sofifa_id                                         player_url  \\\n",
       "18473     247452  https://sofifa.com/player/247452/michael-galla...   \n",
       "18474     252181  https://sofifa.com/player/252181/jiahui-huang/...   \n",
       "18475     252568  https://sofifa.com/player/252568/mohammed-saga...   \n",
       "18476     243961  https://sofifa.com/player/243961/evan-tweed/20...   \n",
       "18477     251789  https://sofifa.com/player/251789/paul-martin/2...   \n",
       "18478     245006  https://sofifa.com/player/245006/shuai-shao/20...   \n",
       "18479     250995  https://sofifa.com/player/250995/mingjie-xiao/...   \n",
       "18480     252332  https://sofifa.com/player/252332/wei-zhang/200002   \n",
       "18481     251110  https://sofifa.com/player/251110/haijian-wang/...   \n",
       "18482     233449  https://sofifa.com/player/233449/ximing-pan/20...   \n",
       "\n",
       "         short_name           long_name  age         dob  height_cm  \\\n",
       "18473  M. Gallagher   Michael Gallagher   18  2000-07-09        178   \n",
       "18474  Huang Jiahui                 黄家辉   18  2000-10-07        183   \n",
       "18475      M. Sagaf  Mohammed Ali Sagaf   21  1997-11-12        177   \n",
       "18476      E. Tweed          Evan Tweed   20  1999-03-01        180   \n",
       "18477     P. Martin         Paul Martin   20  1999-01-05        188   \n",
       "18478    Shao Shuai                  邵帅   22  1997-03-10        186   \n",
       "18479  Xiao Mingjie                 肖明杰   22  1997-01-01        177   \n",
       "18480     Zhang Wei                  张威   19  2000-05-16        186   \n",
       "18481  Wang Haijian                 汪海健   18  2000-08-02        185   \n",
       "18482    Pan Ximing                 潘喜明   26  1993-01-11        182   \n",
       "\n",
       "       weight_kg          nationality                      club_name  ...  \\\n",
       "18473         70  Republic of Ireland                     Finn Harps  ...   \n",
       "18474         74             China PR               Dalian YiFang FC  ...   \n",
       "18475         70              England                Carlisle United  ...   \n",
       "18476         72  Republic of Ireland                     Derry City  ...   \n",
       "18477         84  Republic of Ireland                   Waterford FC  ...   \n",
       "18478         79             China PR               Beijing Renhe FC  ...   \n",
       "18479         66             China PR               Shanghai SIPG FC  ...   \n",
       "18480         75             China PR         Hebei China Fortune FC  ...   \n",
       "18481         74             China PR  Shanghai Greenland Shenhua FC  ...   \n",
       "18482         78             China PR         Hebei China Fortune FC  ...   \n",
       "\n",
       "        lwb   ldm   cdm   rdm   rwb    lb   lcb    cb   rcb    rb  \n",
       "18473  40+2  41+2  41+2  41+2  40+2  40+2  40+2  40+2  40+2  40+2  \n",
       "18474  44+2  41+2  41+2  41+2  44+2  47+2  47+2  47+2  47+2  47+2  \n",
       "18475  45+2  45+2  45+2  45+2  45+2  45+2  44+2  44+2  44+2  45+2  \n",
       "18476  46+2  47+2  47+2  47+2  46+2  46+2  46+2  46+2  46+2  46+2  \n",
       "18477  16+2  18+2  18+2  18+2  16+2  16+2  19+2  19+2  19+2  16+2  \n",
       "18478  43+2  42+2  42+2  42+2  43+2  45+2  47+2  47+2  47+2  45+2  \n",
       "18479  45+2  44+2  44+2  44+2  45+2  47+2  47+2  47+2  47+2  47+2  \n",
       "18480  47+2  50+2  50+2  50+2  47+2  48+2  49+2  49+2  49+2  48+2  \n",
       "18481  48+2  49+2  49+2  49+2  48+2  49+2  49+2  49+2  49+2  49+2  \n",
       "18482  48+2  50+1  50+1  50+1  48+2  49+2  50+1  50+1  50+1  49+2  \n",
       "\n",
       "[10 rows x 106 columns]"
      ]
     },
     "execution_count": 165,
     "metadata": {},
     "output_type": "execute_result"
    }
   ],
   "source": [
    "fifa.tail(10)"
   ]
  },
  {
   "cell_type": "code",
   "execution_count": 166,
   "id": "acfcf3e6",
   "metadata": {},
   "outputs": [
    {
     "data": {
      "text/plain": [
       "(18483, 106)"
      ]
     },
     "execution_count": 166,
     "metadata": {},
     "output_type": "execute_result"
    }
   ],
   "source": [
    "fifa.shape"
   ]
  },
  {
   "cell_type": "code",
   "execution_count": 11,
   "id": "1df5d8c0",
   "metadata": {},
   "outputs": [
    {
     "data": {
      "text/plain": [
       "sofifa_id                     False\n",
       "player_url                    False\n",
       "short_name                    False\n",
       "long_name                     False\n",
       "age                           False\n",
       "dob                           False\n",
       "height_cm                     False\n",
       "weight_kg                     False\n",
       "nationality                   False\n",
       "club_name                      True\n",
       "league_name                    True\n",
       "league_rank                    True\n",
       "overall                       False\n",
       "potential                     False\n",
       "value_eur                     False\n",
       "wage_eur                      False\n",
       "player_positions              False\n",
       "preferred_foot                False\n",
       "international_reputation      False\n",
       "weak_foot                     False\n",
       "skill_moves                   False\n",
       "work_rate                     False\n",
       "body_type                     False\n",
       "real_face                     False\n",
       "release_clause_eur             True\n",
       "player_tags                    True\n",
       "team_position                  True\n",
       "team_jersey_number             True\n",
       "loaned_from                    True\n",
       "joined                         True\n",
       "contract_valid_until           True\n",
       "nation_position                True\n",
       "nation_jersey_number           True\n",
       "pace                           True\n",
       "shooting                       True\n",
       "passing                        True\n",
       "dribbling                      True\n",
       "defending                      True\n",
       "physic                         True\n",
       "gk_diving                      True\n",
       "gk_handling                    True\n",
       "gk_kicking                     True\n",
       "gk_reflexes                    True\n",
       "gk_speed                       True\n",
       "gk_positioning                 True\n",
       "player_traits                  True\n",
       "attacking_crossing            False\n",
       "attacking_finishing           False\n",
       "attacking_heading_accuracy    False\n",
       "attacking_short_passing       False\n",
       "attacking_volleys             False\n",
       "skill_dribbling               False\n",
       "skill_curve                   False\n",
       "skill_fk_accuracy             False\n",
       "skill_long_passing            False\n",
       "skill_ball_control            False\n",
       "movement_acceleration         False\n",
       "movement_sprint_speed         False\n",
       "movement_agility              False\n",
       "movement_reactions            False\n",
       "movement_balance              False\n",
       "power_shot_power              False\n",
       "power_jumping                 False\n",
       "power_stamina                 False\n",
       "power_strength                False\n",
       "power_long_shots              False\n",
       "mentality_aggression          False\n",
       "mentality_interceptions       False\n",
       "mentality_positioning         False\n",
       "mentality_vision              False\n",
       "mentality_penalties           False\n",
       "mentality_composure           False\n",
       "defending_marking              True\n",
       "defending_standing_tackle     False\n",
       "defending_sliding_tackle      False\n",
       "goalkeeping_diving            False\n",
       "goalkeeping_handling          False\n",
       "goalkeeping_kicking           False\n",
       "goalkeeping_positioning       False\n",
       "goalkeeping_reflexes          False\n",
       "ls                            False\n",
       "st                            False\n",
       "rs                            False\n",
       "lw                            False\n",
       "lf                            False\n",
       "cf                            False\n",
       "rf                            False\n",
       "rw                            False\n",
       "lam                           False\n",
       "cam                           False\n",
       "ram                           False\n",
       "lm                            False\n",
       "lcm                           False\n",
       "cm                            False\n",
       "rcm                           False\n",
       "rm                            False\n",
       "lwb                           False\n",
       "ldm                           False\n",
       "cdm                           False\n",
       "rdm                           False\n",
       "rwb                           False\n",
       "lb                            False\n",
       "lcb                           False\n",
       "cb                            False\n",
       "rcb                           False\n",
       "rb                            False\n",
       "dtype: bool"
      ]
     },
     "execution_count": 11,
     "metadata": {},
     "output_type": "execute_result"
    }
   ],
   "source": [
    "fifa.isnull().any()"
   ]
  },
  {
   "cell_type": "code",
   "execution_count": 167,
   "id": "2ee227ff",
   "metadata": {},
   "outputs": [
    {
     "data": {
      "image/png": "[encoded data removed]",
      "text/plain": [
       "<Figure size 432x288 with 1 Axes>"
      ]
     },
     "metadata": {
      "needs_background": "light"
     },
     "output_type": "display_data"
    }
   ],
   "source": [
    "plt.bar(fifa[\"age\"],fifa[\"potential\"])\n",
    "plt.xlabel(\"Age of Player\")\n",
    "plt.show()"
   ]
  },
  {
   "cell_type": "markdown",
   "id": "9a755b7e",
   "metadata": {},
   "source": [
    "# Linear regression. X axis= Age , Y axis= Potential"
   ]
  },
  {
   "cell_type": "code",
   "execution_count": 168,
   "id": "02a88be8",
   "metadata": {},
   "outputs": [],
   "source": [
    "from sklearn.model_selection import train_test_split"
   ]
  },
  {
   "cell_type": "code",
   "execution_count": 169,
   "id": "44a40ccc",
   "metadata": {},
   "outputs": [],
   "source": [
    "from sklearn.linear_model import LinearRegression"
   ]
  },
  {
   "cell_type": "code",
   "execution_count": 170,
   "id": "fbd11cf9",
   "metadata": {},
   "outputs": [
    {
     "data": {
      "text/plain": [
       "((18483, 1), (18483, 1))"
      ]
     },
     "execution_count": 170,
     "metadata": {},
     "output_type": "execute_result"
    }
   ],
   "source": [
    "\n",
    "X = np.array(fifa['age']).reshape(-1,1)\n",
    "y = np.array(fifa['potential']).reshape(-1,1)\n",
    "X.shape, y.shape"
   ]
  },
  {
   "cell_type": "code",
   "execution_count": 171,
   "id": "2d3bbbef",
   "metadata": {},
   "outputs": [
    {
     "data": {
      "text/plain": [
       "array([[ 1., 32.],\n",
       "       [ 1., 34.],\n",
       "       [ 1., 27.],\n",
       "       [ 1., 26.],\n",
       "       [ 1., 28.]])"
      ]
     },
     "execution_count": 171,
     "metadata": {},
     "output_type": "execute_result"
    }
   ],
   "source": [
    "from numpy.linalg import inv\n",
    "\n",
    "const = np.ones(shape=y.shape)\n",
    "mat = np.concatenate( (const, X), axis=1)\n",
    "\n",
    "# first 5 examples\n",
    "mat[:5,:]"
   ]
  },
  {
   "cell_type": "code",
   "execution_count": 172,
   "id": "11fa2c44",
   "metadata": {},
   "outputs": [
    {
     "name": "stdout",
     "output_type": "stream",
     "text": [
      "Beta 0: 80.235\n",
      "Beta 1: -0.345\n"
     ]
    }
   ],
   "source": [
    "betas = inv(mat.transpose().dot(mat)).dot(mat.transpose()).dot(y)\n",
    "b0, b1 = betas\n",
    "\n",
    "print(f'Beta 0: {np.round(b0[0],3)}')\n",
    "print(f'Beta 1: {np.round(b1[0],3)}')"
   ]
  },
  {
   "cell_type": "code",
   "execution_count": 173,
   "id": "19a8e123",
   "metadata": {},
   "outputs": [
    {
     "data": {
      "text/plain": [
       "array([[69.18057905],\n",
       "       [68.48969378],\n",
       "       [70.90779221],\n",
       "       [71.25323485],\n",
       "       [70.56234958]])"
      ]
     },
     "execution_count": 173,
     "metadata": {},
     "output_type": "execute_result"
    }
   ],
   "source": [
    "yhat = mat.dot(betas)\n",
    "yhat[:5, :]"
   ]
  },
  {
   "cell_type": "code",
   "execution_count": 174,
   "id": "95095cc7",
   "metadata": {},
   "outputs": [
    {
     "data": {
      "image/png": "[encoded data removed]",
      "text/plain": [
       "<Figure size 432x288 with 1 Axes>"
      ]
     },
     "metadata": {
      "needs_background": "light"
     },
     "output_type": "display_data"
    }
   ],
   "source": [
    "\n",
    "plt.plot(X, y, 'bo')\n",
    "plt.plot(X, yhat, 'r')\n",
    "plt.xlabel('Age')\n",
    "plt.ylabel('Potential')\n",
    "\n",
    "plt.show()"
   ]
  },
  {
   "cell_type": "code",
   "execution_count": 175,
   "id": "00843b79",
   "metadata": {},
   "outputs": [
    {
     "name": "stdout",
     "output_type": "stream",
     "text": [
      "                            OLS Regression Results                            \n",
      "==============================================================================\n",
      "Dep. Variable:                      y   R-squared:                       0.069\n",
      "Model:                            OLS   Adj. R-squared:                  0.069\n",
      "Method:                 Least Squares   F-statistic:                     1362.\n",
      "Date:                Mon, 11 Oct 2021   Prob (F-statistic):          1.12e-287\n",
      "Time:                        11:22:16   Log-Likelihood:                -59115.\n",
      "No. Observations:               18483   AIC:                         1.182e+05\n",
      "Df Residuals:                   18481   BIC:                         1.182e+05\n",
      "Df Model:                           1                                         \n",
      "Covariance Type:            nonrobust                                         \n",
      "==============================================================================\n",
      "                 coef    std err          t      P>|t|      [0.025      0.975]\n",
      "------------------------------------------------------------------------------\n",
      "const         80.2347      0.241    333.389      0.000      79.763      80.706\n",
      "x1            -0.3454      0.009    -36.901      0.000      -0.364      -0.327\n",
      "==============================================================================\n",
      "Omnibus:                      197.369   Durbin-Watson:                   0.026\n",
      "Prob(Omnibus):                  0.000   Jarque-Bera (JB):              203.855\n",
      "Skew:                           0.251   Prob(JB):                     5.41e-45\n",
      "Kurtosis:                       3.112   Cond. No.                         142.\n",
      "==============================================================================\n",
      "\n",
      "Notes:\n",
      "[1] Standard Errors assume that the covariance matrix of the errors is correctly specified.\n"
     ]
    }
   ],
   "source": [
    "import statsmodels.api as smf\n",
    "\n",
    "simpleModel = smf.OLS(y, mat).fit()\n",
    "print(simpleModel.summary())"
   ]
  },
  {
   "cell_type": "code",
   "execution_count": 178,
   "id": "3429bc13",
   "metadata": {},
   "outputs": [],
   "source": [
    "X=fifa.iloc[:,4]\n",
    "y=fifa.iloc[:,13]"
   ]
  },
  {
   "cell_type": "code",
   "execution_count": 179,
   "id": "c1bb8d82",
   "metadata": {},
   "outputs": [
    {
     "name": "stdout",
     "output_type": "stream",
     "text": [
      "Training samples: 14,786\n",
      "Test samples: 3,697\n"
     ]
    }
   ],
   "source": [
    "from sklearn.model_selection import train_test_split\n",
    "\n",
    "X_training, X_test, y_training, y_test = train_test_split(X, y, test_size=0.20)\n",
    "\n",
    "print(f'Training samples: {X_training.shape[0]:,}')\n",
    "print(f'Test samples: {X_test.shape[0]:,}')"
   ]
  },
  {
   "cell_type": "code",
   "execution_count": 182,
   "id": "f045ce22",
   "metadata": {},
   "outputs": [],
   "source": [
    "X_training=np.array(X_training)\n",
    "y_training=np.array(y_training)\n"
   ]
  },
  {
   "cell_type": "code",
   "execution_count": 184,
   "id": "448e3568",
   "metadata": {},
   "outputs": [],
   "source": [
    "X_training=X_training.reshape(-1,1)\n",
    "y_training=y_training.reshape(-1,1)"
   ]
  },
  {
   "cell_type": "code",
   "execution_count": 185,
   "id": "3127d8a5",
   "metadata": {},
   "outputs": [
    {
     "data": {
      "text/plain": [
       "LinearRegression()"
      ]
     },
     "execution_count": 185,
     "metadata": {},
     "output_type": "execute_result"
    }
   ],
   "source": [
    "regressor.fit(X_training,y_training)"
   ]
  },
  {
   "cell_type": "code",
   "execution_count": 193,
   "id": "e4b4f460",
   "metadata": {},
   "outputs": [],
   "source": [
    "X_test=np.array(X_test)"
   ]
  },
  {
   "cell_type": "code",
   "execution_count": 194,
   "id": "a4ecf7ad",
   "metadata": {},
   "outputs": [],
   "source": [
    "X_test=X_test.reshape(-1,1)"
   ]
  },
  {
   "cell_type": "code",
   "execution_count": 195,
   "id": "d79bc12f",
   "metadata": {},
   "outputs": [
    {
     "data": {
      "text/plain": [
       "array([[71.24163839],\n",
       "       [71.24163839],\n",
       "       [71.58277282],\n",
       "       ...,\n",
       "       [73.6295794 ],\n",
       "       [70.90050395],\n",
       "       [70.90050395]])"
      ]
     },
     "execution_count": 195,
     "metadata": {},
     "output_type": "execute_result"
    }
   ],
   "source": [
    "regressor.predict(X_test)"
   ]
  },
  {
   "cell_type": "code",
   "execution_count": 227,
   "id": "878a0e5c",
   "metadata": {},
   "outputs": [
    {
     "data": {
      "text/plain": [
       "5.84952757432641"
      ]
     },
     "execution_count": 227,
     "metadata": {},
     "output_type": "execute_result"
    }
   ],
   "source": [
    "from sklearn.metrics import mean_squared_error\n",
    "\n",
    "predictions=regressor.predict(X_test)\n",
    "mse=mean_squared_error(y_test, predictions)\n",
    "rmse=np.sqrt(mse)\n",
    "rmse"
   ]
  },
  {
   "cell_type": "code",
   "execution_count": 197,
   "id": "f96c3814",
   "metadata": {},
   "outputs": [
    {
     "data": {
      "image/png": "[encoded data removed]",
      "text/plain": [
       "<Figure size 432x288 with 1 Axes>"
      ]
     },
     "metadata": {
      "needs_background": "light"
     },
     "output_type": "display_data"
    }
   ],
   "source": [
    "#vizualizing train set\n",
    "plt.scatter(X_training,y_train,color=\"red\")\n",
    "plt.xlabel(\"Age of Player\")\n",
    "plt.ylabel(\"Potential of Player\")\n",
    "plt.plot(X_training, regressor.predict(X_training),color=\"blue\") \n",
    "plt.show()"
   ]
  },
  {
   "cell_type": "code",
   "execution_count": 198,
   "id": "dbbfd03f",
   "metadata": {},
   "outputs": [
    {
     "data": {
      "image/png": "[encoded data removed]",
      "text/plain": [
       "<Figure size 432x288 with 1 Axes>"
      ]
     },
     "metadata": {
      "needs_background": "light"
     },
     "output_type": "display_data"
    }
   ],
   "source": [
    "# Visualising test dataset\n",
    "plt.scatter(X_test,y_test,color=\"red\")\n",
    "plt.xlabel(\"Age of Player\")\n",
    "plt.ylabel(\"Potential of Player\")\n",
    "plt.plot(X_training, regressor.predict(X_training),color=\"blue\")\n",
    "plt.show()"
   ]
  },
  {
   "cell_type": "code",
   "execution_count": 214,
   "id": "8fd4da95",
   "metadata": {},
   "outputs": [],
   "source": [
    "from numpy import mean\n",
    "from numpy import std\n",
    "from sklearn.model_selection import cross_val_score\n",
    "from numpy import absolute\n",
    "from sklearn.model_selection import RepeatedKFold\n",
    "from sklearn.linear_model import Ridge\n",
    "clf = Ridge(alpha=1.0)"
   ]
  },
  {
   "cell_type": "code",
   "execution_count": 215,
   "id": "7a669ced",
   "metadata": {},
   "outputs": [],
   "source": [
    "cv = RepeatedKFold(n_splits=10, n_repeats=3, random_state=1)"
   ]
  },
  {
   "cell_type": "code",
   "execution_count": 216,
   "id": "fc5af991",
   "metadata": {},
   "outputs": [],
   "source": [
    "s = cross_val_score(clf, X_training, y_training, scoring='neg_mean_absolute_error', cv=cv, n_jobs=-1)"
   ]
  },
  {
   "cell_type": "code",
   "execution_count": 218,
   "id": "a3af714e",
   "metadata": {},
   "outputs": [
    {
     "name": "stdout",
     "output_type": "stream",
     "text": [
      "Mean MAE: 4.730 (0.058)\n"
     ]
    }
   ],
   "source": [
    "s = absolute(s)\n",
    "print('Mean MAE: %.3f (%.3f)' % (mean(s), std(s)))"
   ]
  },
  {
   "cell_type": "code",
   "execution_count": 232,
   "id": "ece137d1",
   "metadata": {},
   "outputs": [
    {
     "data": {
      "text/plain": [
       "Ridge()"
      ]
     },
     "execution_count": 232,
     "metadata": {},
     "output_type": "execute_result"
    }
   ],
   "source": [
    "clf.fit(X_training, y_training)"
   ]
  },
  {
   "cell_type": "code",
   "execution_count": 234,
   "id": "26af9e87",
   "metadata": {},
   "outputs": [],
   "source": [
    "train_preds = clf.predict(X_training)"
   ]
  },
  {
   "cell_type": "code",
   "execution_count": 236,
   "id": "860408da",
   "metadata": {},
   "outputs": [
    {
     "data": {
      "text/plain": [
       "10.0"
      ]
     },
     "execution_count": 236,
     "metadata": {},
     "output_type": "execute_result"
    }
   ],
   "source": [
    "train_preds = np.clip(train_preds, 0, 10)\n",
    "train_preds.mean()"
   ]
  },
  {
   "cell_type": "code",
   "execution_count": 238,
   "id": "a7c61116",
   "metadata": {},
   "outputs": [],
   "source": [
    "X_test = fifa[['age', 'potential']].values"
   ]
  },
  {
   "cell_type": "code",
   "execution_count": null,
   "id": "8f20ea1a",
   "metadata": {},
   "outputs": [],
   "source": []
  },
  {
   "cell_type": "code",
   "execution_count": 244,
   "id": "b6d4d105",
   "metadata": {},
   "outputs": [
    {
     "name": "stdout",
     "output_type": "stream",
     "text": [
      "Mean MAE: 4.737 (0.059)\n"
     ]
    }
   ],
   "source": [
    "from sklearn.linear_model import Lasso\n",
    "model = Lasso(alpha=1.0)\n",
    "# define model evaluation method\n",
    "cv = RepeatedKFold(n_splits=10, n_repeats=3, random_state=1)\n",
    "# evaluate model\n",
    "scores = cross_val_score(model, X_training, y_training, scoring='neg_mean_absolute_error', cv=cv, n_jobs=-1)\n",
    "# force scores to be positive\n",
    "scores = absolute(scores)\n",
    "print('Mean MAE: %.3f (%.3f)' % (mean(scores), std(scores)))"
   ]
  },
  {
   "cell_type": "code",
   "execution_count": null,
   "id": "205006aa",
   "metadata": {},
   "outputs": [],
   "source": []
  }
 ],
 "metadata": {
  "kernelspec": {
   "display_name": "Python 3",
   "language": "python",
   "name": "python3"
  },
  "language_info": {
   "codemirror_mode": {
    "name": "ipython",
    "version": 3
   },
   "file_extension": ".py",
   "mimetype": "text/x-python",
   "name": "python",
   "nbconvert_exporter": "python",
   "pygments_lexer": "ipython3",
   "version": "3.8.8"
  }
 },
 "nbformat": 4,
 "nbformat_minor": 5
}
